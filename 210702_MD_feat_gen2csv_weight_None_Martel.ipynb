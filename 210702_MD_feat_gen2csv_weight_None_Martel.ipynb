{
 "cells": [
  {
   "cell_type": "code",
   "execution_count": 1,
   "id": "animated-enterprise",
   "metadata": {},
   "outputs": [],
   "source": [
    "from logp.zq.io.base import sparse_batch\n",
    "import tensorflow as tf\n",
    "\n",
    "from logp.io.elem_filter import filt_elems\n",
    "import os, warnings\n",
    "import pandas as pd\n",
    "warnings.filterwarnings('ignore')\n",
    "\n",
    "from logp.sf_behler.g3D import XYZ_dict\n",
    "from rdkit import Chem\n",
    "from logp.sf_behler.sf import sum_G1, sum_G2\n",
    "from logp.sf_behler.sf import get_charge\n",
    "from logp.zq.io.smi2feat import generator,generator_feat\n",
    "\n",
    "from logp.zq.io.pdb2feat import generator_feat_md\n",
    "\n",
    "from multiprocessing import Pool\n",
    "from multiprocessing.dummy import Pool as ThreadPool\n",
    "import multiprocessing as mp\n",
    "from time import time\n",
    "\n",
    "import numpy as np\n",
    "\n",
    "pd.set_option('display.max_rows',None)\n",
    "pd.set_option('display.max_columns',None)\n",
    "np.set_printoptions(threshold=np.inf)"
   ]
  },
  {
   "cell_type": "code",
   "execution_count": 2,
   "id": "afraid-compression",
   "metadata": {},
   "outputs": [],
   "source": [
    "dataset = 'logp/DATASETS/MD/Martel/md_Martel_CHON.csv'"
   ]
  },
  {
   "cell_type": "code",
   "execution_count": 3,
   "id": "empirical-glossary",
   "metadata": {},
   "outputs": [],
   "source": [
    "dataset = pd.read_csv(dataset)"
   ]
  },
  {
   "cell_type": "code",
   "execution_count": 4,
   "id": "suspected-reasoning",
   "metadata": {},
   "outputs": [],
   "source": [
    "smiles = dataset['smile'].values\n",
    "labels = dataset['logp'].values"
   ]
  },
  {
   "cell_type": "code",
   "execution_count": 5,
   "id": "lined-nurse",
   "metadata": {},
   "outputs": [],
   "source": [
    "#labels"
   ]
  },
  {
   "cell_type": "code",
   "execution_count": 6,
   "id": "introductory-reverse",
   "metadata": {},
   "outputs": [],
   "source": [
    "params = {'G1':{'eta':np.arange(1,1.8,0.1),'Rs':np.arange(0,0.8,0.1)},\n",
    "          'G2':{'lamb':[1.0,-1.0],'eta':np.arange(1,1.8,0.1),'xi':np.arange(1,17.,2)},}"
   ]
  },
  {
   "cell_type": "code",
   "execution_count": 7,
   "id": "constant-factor",
   "metadata": {},
   "outputs": [
    {
     "name": "stdout",
     "output_type": "stream",
     "text": [
      "55841.362931489944 elasped\n"
     ]
    }
   ],
   "source": [
    "# Utilize the multiprocessing to speed the calculation\n",
    "\n",
    "prefix = 'logp/DATASETS/MD/Martel/'\n",
    "weights = None\n",
    "max_out = True\n",
    "\n",
    "pool = mp.Pool(mp.cpu_count())\n",
    "\n",
    "dataset1 = []\n",
    "#dataset2 = []\n",
    "begin_time = time()\n",
    "for i,smile in enumerate(smiles):\n",
    "    #p= pool.apply_async(generator_feat_md,args=(prefix,smile,labels[i],params,weights,max_out))\n",
    "    #dataset1.append(p)\n",
    "    #dataset2.append(p_max)\n",
    "    try:\n",
    "    #    print(smile,labels[i])\n",
    "        p = pool.apply_async(generator_feat_md,args=(prefix,smile,labels[i],params,weights,max_out))\n",
    "        dataset1.append(p)\n",
    "    #    dataset2.append(p_max)\n",
    "    except:\n",
    "        print('{} failed!'.format(smile))\n",
    "pool.close()\n",
    "pool.join()\n",
    "end_time = time()\n",
    "print(\"{} elasped\".format(end_time-begin_time))"
   ]
  },
  {
   "cell_type": "code",
   "execution_count": 8,
   "id": "verified-compiler",
   "metadata": {},
   "outputs": [],
   "source": [
    "dataset_multi = {'elems':[],'coord':[],'fps':[],'logp':[]}\n",
    "for r in dataset1:\n",
    "    #print(r.get())\n",
    "    dataset_multi['elems'].append(r.get()['elems'])\n",
    "    dataset_multi['coord'].append(r.get()['coord'])\n",
    "    dataset_multi['fps'].append(r.get()['fps'])\n",
    "    dataset_multi['logp'].append(r.get()['logp'])"
   ]
  },
  {
   "cell_type": "code",
   "execution_count": 9,
   "id": "senior-chair",
   "metadata": {},
   "outputs": [],
   "source": [
    "df = pd.DataFrame(data=dataset_multi)"
   ]
  },
  {
   "cell_type": "code",
   "execution_count": 10,
   "id": "handled-underwear",
   "metadata": {},
   "outputs": [],
   "source": [
    "df.to_csv('logp/DATASETS/sf_ave_Martel_MD_weights_None.csv',index=False)"
   ]
  },
  {
   "cell_type": "code",
   "execution_count": 11,
   "id": "molecular-portsmouth",
   "metadata": {},
   "outputs": [],
   "source": [
    "dataset_multi_max = {'elems':[],'coord':[],'fps':[],'logp':[]}\n",
    "for r in dataset1:\n",
    "    #print(r.get())\n",
    "    dataset_multi_max['elems'].append(r.get()['max_elems'])\n",
    "    dataset_multi_max['coord'].append(r.get()['max_coord'])\n",
    "    dataset_multi_max['fps'].append(r.get()['max_fps'])\n",
    "    dataset_multi_max['logp'].append(r.get()['max_logp'])"
   ]
  },
  {
   "cell_type": "code",
   "execution_count": 12,
   "id": "initial-sensitivity",
   "metadata": {},
   "outputs": [],
   "source": [
    "df_max = pd.DataFrame(data=dataset_multi_max)"
   ]
  },
  {
   "cell_type": "code",
   "execution_count": 13,
   "id": "under-prerequisite",
   "metadata": {},
   "outputs": [],
   "source": [
    "df_max.to_csv('logp/DATASETS/sf_max_Martel_MD_weights_None.csv',index=False)"
   ]
  }
 ],
 "metadata": {
  "kernelspec": {
   "display_name": "Python 3",
   "language": "python",
   "name": "python3"
  },
  "language_info": {
   "codemirror_mode": {
    "name": "ipython",
    "version": 3
   },
   "file_extension": ".py",
   "mimetype": "text/x-python",
   "name": "python",
   "nbconvert_exporter": "python",
   "pygments_lexer": "ipython3",
   "version": "3.8.8"
  }
 },
 "nbformat": 4,
 "nbformat_minor": 5
}
