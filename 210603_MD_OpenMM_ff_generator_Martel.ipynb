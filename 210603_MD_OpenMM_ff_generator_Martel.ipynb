{
 "cells": [
  {
   "cell_type": "code",
   "execution_count": 1,
   "id": "7e5fb231",
   "metadata": {},
   "outputs": [
    {
     "name": "stderr",
     "output_type": "stream",
     "text": [
      "Warning: Unable to load toolkit 'OpenEye Toolkit'. The Open Force Field Toolkit does not require the OpenEye Toolkits, and can use RDKit/AmberTools instead. However, if you have a valid license for the OpenEye Toolkits, consider installing them for faster performance and additional file format support: https://docs.eyesopen.com/toolkits/python/quickstart-python/linuxosx.html OpenEye offers free Toolkit licenses for academics: https://www.eyesopen.com/academic-licensing\n"
     ]
    }
   ],
   "source": [
    "from logp.zq.utils.md.md import md\n",
    "from logp.zq.utils.md.md import getChargeVectors,getSigmaVectors,getEpsilonVectors\n",
    "from logp.zq.utils.md.load_prop import load_prop\n",
    "\n",
    "from simtk.unit import *\n",
    "from simtk.openmm.app import *\n",
    "from simtk.openmm import *\n",
    "\n",
    "import numpy as np\n",
    "import pandas as pd\n",
    "\n",
    "from logp.io.elem_filter import filt_elems\n",
    "\n",
    "from tqdm import tqdm\n",
    "\n",
    "import warnings\n",
    "warnings.filterwarnings('ignore')"
   ]
  },
  {
   "cell_type": "code",
   "execution_count": 2,
   "id": "1f43dedf",
   "metadata": {},
   "outputs": [
    {
     "name": "stdout",
     "output_type": "stream",
     "text": [
      "210\n",
      "447/657 is out of elements we specified\n"
     ]
    }
   ],
   "source": [
    "# Specify the element you want to fileter\n",
    "elems_specified = ['C','H','O','N']\n",
    "# load the dataset we collected\n",
    "dataset = 'logp/DATASETS/DATASETS_TOTAL.xlsx'\n",
    "dataset_martel = pd.read_excel(dataset,sheet_name='Martel')\n",
    "\n",
    "dataset_filt = filt_elems(dataset_martel,elems_specified)\n",
    "dataset_filt = pd.DataFrame(data=dataset_filt)\n",
    "\n",
    "smiles = dataset_filt['smiles'].values\n",
    "labels = dataset_filt['logp'].values"
   ]
  },
  {
   "cell_type": "code",
   "execution_count": 3,
   "id": "373fa754",
   "metadata": {},
   "outputs": [],
   "source": [
    "params_star = {'temp':300,'pdbfreq':1000,'outfreq':1000,'steps':500000,\n",
    "          'nonbondedMethod':NoCutoff,'cutoff':1.0*nanometer,'constraints':HBonds,\n",
    "          'method':'gaff',\n",
    "          'dir':'logp/DATASETS/MD/Martel/','DumpFF':True,'HasFF':False}\n",
    "\n",
    "#md(smile,params)"
   ]
  },
  {
   "cell_type": "code",
   "execution_count": 4,
   "id": "2e473b7f",
   "metadata": {},
   "outputs": [
    {
     "name": "stderr",
     "output_type": "stream",
     "text": [
      " 10%|▉         | 20/210 [30:26<2:54:21, 55.06s/it] "
     ]
    },
    {
     "name": "stdout",
     "output_type": "stream",
     "text": [
      "Failed for SMI: CN(C)/C=C/C(=O)c1ccc(cc1)C#Cc2ccccc2\n",
      "MD Section failed for SMI: CN(C)/C=C/C(=O)c1ccc(cc1)C#Cc2ccccc2\n"
     ]
    },
    {
     "name": "stderr",
     "output_type": "stream",
     "text": [
      "\r",
      " 10%|█         | 22/210 [32:02<2:42:33, 51.88s/it]"
     ]
    },
    {
     "name": "stdout",
     "output_type": "stream",
     "text": [
      "Failed for SMI: CCCCOc1ccc(cc1)/C=C/C(=O)NC(C)C\n",
      "MD Section failed for SMI: CCCCOc1ccc(cc1)/C=C/C(=O)NC(C)C\n"
     ]
    },
    {
     "name": "stderr",
     "output_type": "stream",
     "text": [
      " 18%|█▊        | 37/210 [41:58<1:32:54, 32.22s/it]"
     ]
    },
    {
     "name": "stdout",
     "output_type": "stream",
     "text": [
      "MD Section failed for SMI: CC1CC(C)=CC(C)C(CO)1CO\n"
     ]
    },
    {
     "name": "stderr",
     "output_type": "stream",
     "text": [
      "\r",
      " 19%|█▊        | 39/210 [43:20<1:43:12, 36.21s/it]"
     ]
    },
    {
     "name": "stdout",
     "output_type": "stream",
     "text": [
      "MD Section failed for SMI: CC1CN(C3=C(/C=C(C#N)/C#N)C(N2C=CC=CC2=N3)=O)CC(C)O1\n"
     ]
    },
    {
     "name": "stderr",
     "output_type": "stream",
     "text": [
      " 21%|██▏       | 45/210 [54:58<5:27:36, 119.13s/it]"
     ]
    },
    {
     "name": "stdout",
     "output_type": "stream",
     "text": [
      "Failed for SMI: c1ccc(cc1)/C=C/C(=O)Nc2cccc(c2)NC(=O)c3cccc(c3)C\n",
      "MD Section failed for SMI: c1ccc(cc1)/C=C/C(=O)Nc2cccc(c2)NC(=O)c3cccc(c3)C\n"
     ]
    },
    {
     "name": "stderr",
     "output_type": "stream",
     "text": [
      " 23%|██▎       | 48/210 [58:07<3:43:42, 82.86s/it] "
     ]
    },
    {
     "name": "stdout",
     "output_type": "stream",
     "text": [
      "Failed for SMI: Cc1ccc(cc1)NCc2ccc\\3n2CC/C3=C\\4/Cn5c(ccc5C4=O)CNc6ccc(cc6)C\n",
      "MD Section failed for SMI: Cc1ccc(cc1)NCc2ccc\\3n2CC/C3=C\\4/Cn5c(ccc5C4=O)CNc6ccc(cc6)C\n"
     ]
    },
    {
     "name": "stderr",
     "output_type": "stream",
     "text": [
      " 29%|██▊       | 60/210 [1:40:18<6:12:00, 148.80s/it]]"
     ]
    },
    {
     "name": "stdout",
     "output_type": "stream",
     "text": [
      "Failed for SMI: c1cc2c(cc1/C=C/C(=O)Nc3ccc4c(c3)OCO4)OCO2\n",
      "MD Section failed for SMI: c1cc2c(cc1/C=C/C(=O)Nc3ccc4c(c3)OCO4)OCO2\n"
     ]
    },
    {
     "name": "stderr",
     "output_type": "stream",
     "text": [
      "\r",
      " 30%|██▉       | 62/210 [1:49:40<8:37:36, 209.84s/it]"
     ]
    },
    {
     "name": "stdout",
     "output_type": "stream",
     "text": [
      "Failed for SMI: c1ccc(cc1)c2cc(n(n2)c3ccc(cc3)/C=N/n4cnnc4)c5ccccc5\n",
      "MD Section failed for SMI: c1ccc(cc1)c2cc(n(n2)c3ccc(cc3)/C=N/n4cnnc4)c5ccccc5\n",
      "MD Section failed for SMI: N1C(=O)C(CC(=O)Nc2c(cccc2)NC(=O)CC2C(=O)Nc3ccccc3N2)Nc2c1cccc2\n"
     ]
    },
    {
     "name": "stderr",
     "output_type": "stream",
     "text": [
      " 35%|███▍      | 73/210 [2:21:44<10:02:47, 264.00s/it]"
     ]
    },
    {
     "name": "stdout",
     "output_type": "stream",
     "text": [
      "MD Section failed for SMI: Cc1ccc(c(c1)NC(=O)[C@H]2CC3c4ccccc4C2c5c3cccc5)C\n"
     ]
    },
    {
     "name": "stderr",
     "output_type": "stream",
     "text": [
      " 38%|███▊      | 79/210 [2:29:13<3:14:44, 89.20s/it]  "
     ]
    },
    {
     "name": "stdout",
     "output_type": "stream",
     "text": [
      "Failed for SMI: CC(=O)Oc1ccc(cc1OC)/C=C(/C(=O)Nc2cccc(c2)CO)\\NC(=O)c3ccccc3\n",
      "MD Section failed for SMI: CC(=O)Oc1ccc(cc1OC)/C=C(/C(=O)Nc2cccc(c2)CO)\\NC(=O)c3ccccc3\n"
     ]
    },
    {
     "name": "stderr",
     "output_type": "stream",
     "text": [
      " 41%|████▏     | 87/210 [3:02:55<8:57:38, 262.26s/it]"
     ]
    },
    {
     "name": "stdout",
     "output_type": "stream",
     "text": [
      "MD Section failed for SMI: CC1=NC2=C([C@H](C1C(=O)OC[C@@H]3CCCO3)c4cccc(c4)OC)C(=O)CCC2\n"
     ]
    },
    {
     "name": "stderr",
     "output_type": "stream",
     "text": [
      " 45%|████▌     | 95/210 [3:30:41<5:36:17, 175.46s/it] "
     ]
    },
    {
     "name": "stdout",
     "output_type": "stream",
     "text": [
      "Failed for SMI: COC(=O)/C=C/CN1C(=O)c2ccccc2C1=O\n",
      "MD Section failed for SMI: COC(=O)/C=C/CN1C(=O)c2ccccc2C1=O\n"
     ]
    },
    {
     "name": "stderr",
     "output_type": "stream",
     "text": [
      " 50%|████▉     | 104/210 [3:55:00<4:38:27, 157.62s/it]"
     ]
    },
    {
     "name": "stdout",
     "output_type": "stream",
     "text": [
      "MD Section failed for SMI: Cc(cc2c1C(c3cc(OC)c(OC)c(OC)c3)C(C#N)=C(N)O2)[nH]c1=O\n"
     ]
    },
    {
     "name": "stderr",
     "output_type": "stream",
     "text": [
      " 51%|█████▏    | 108/210 [4:06:53<6:08:15, 216.63s/it]"
     ]
    },
    {
     "name": "stdout",
     "output_type": "stream",
     "text": [
      "Failed for SMI: COc1ccc(cc1)/N=C/c2ccc(cc2)/C=N/c3ccc(cc3)OC\n",
      "MD Section failed for SMI: COc1ccc(cc1)/N=C/c2ccc(cc2)/C=N/c3ccc(cc3)OC\n"
     ]
    },
    {
     "name": "stderr",
     "output_type": "stream",
     "text": [
      " 54%|█████▍    | 113/210 [4:13:16<2:44:43, 101.89s/it]"
     ]
    },
    {
     "name": "stdout",
     "output_type": "stream",
     "text": [
      "Failed for SMI: Cc1c(c(=O)n(n1C)c2ccccc2)N/C=C\\3/c4ccc(cc4C(=O)N(C3=O)Cc5ccco5)OC\n",
      "MD Section failed for SMI: Cc1c(c(=O)n(n1C)c2ccccc2)N/C=C\\3/c4ccc(cc4C(=O)N(C3=O)Cc5ccco5)OC\n",
      "Failed for SMI: CCO/C(O)=C/c2nc1nonc1nc2O\n",
      "MD Section failed for SMI: CCO/C(O)=C/c2nc1nonc1nc2O\n",
      "Failed for SMI: c1c(cc2c(c1)OCO2)/C=C/C(=O)NCCCCNC(=O)/C=C/c3cc4c(cc3)OCO4\n",
      "MD Section failed for SMI: c1c(cc2c(c1)OCO2)/C=C/C(=O)NCCCCNC(=O)/C=C/c3cc4c(cc3)OCO4\n"
     ]
    },
    {
     "name": "stderr",
     "output_type": "stream",
     "text": [
      " 62%|██████▏   | 130/210 [4:58:00<3:25:29, 154.12s/it]"
     ]
    },
    {
     "name": "stdout",
     "output_type": "stream",
     "text": [
      "Failed for SMI: Cc1cc(n(c(=O)c1C#N)/N=C/c2ccccc2OC)C\n",
      "MD Section failed for SMI: Cc1cc(n(c(=O)c1C#N)/N=C/c2ccccc2OC)C\n"
     ]
    },
    {
     "name": "stderr",
     "output_type": "stream",
     "text": [
      " 63%|██████▎   | 133/210 [5:01:40<2:21:47, 110.48s/it]"
     ]
    },
    {
     "name": "stdout",
     "output_type": "stream",
     "text": [
      "Failed for SMI: Cc1oc(cc1)/C=C/C(=O)NCCNC(=O)/C=C/c2oc(cc2)C\n",
      "MD Section failed for SMI: Cc1oc(cc1)/C=C/C(=O)NCCNC(=O)/C=C/c2oc(cc2)C\n"
     ]
    },
    {
     "name": "stderr",
     "output_type": "stream",
     "text": [
      " 71%|███████   | 149/210 [5:33:45<1:32:31, 91.01s/it] "
     ]
    },
    {
     "name": "stdout",
     "output_type": "stream",
     "text": [
      "Failed for SMI: Cc1ccc2c(c1)c3c([nH]2)nc(nn3)N/N=C/C=C/c4ccco4\n",
      "MD Section failed for SMI: Cc1ccc2c(c1)c3c([nH]2)nc(nn3)N/N=C/C=C/c4ccco4\n",
      "Failed for SMI: c1cc(c(cc1)NC(=O)/C=C/c2occc2)NC(=O)/C=C/c3occc3\n",
      "MD Section failed for SMI: c1cc(c(cc1)NC(=O)/C=C/c2occc2)NC(=O)/C=C/c3occc3\n",
      "Failed for SMI: C/C(=C\\c1ccco1)/[C@@H]2c3c([nH]nc3OC(=C2C#N)N)c4ccccc4\n",
      "MD Section failed for SMI: C/C(=C\\c1ccco1)/[C@@H]2c3c([nH]nc3OC(=C2C#N)N)c4ccccc4\n"
     ]
    },
    {
     "name": "stderr",
     "output_type": "stream",
     "text": [
      " 72%|███████▏  | 151/210 [5:36:06<1:21:27, 82.85s/it]"
     ]
    },
    {
     "name": "stdout",
     "output_type": "stream",
     "text": [
      "MD Section failed for SMI: c12n(ncn2)C(C2=C(N1)CCCC2=O)c1c(cc(c(c1)OC)OC)OC\n"
     ]
    },
    {
     "name": "stderr",
     "output_type": "stream",
     "text": [
      " 75%|███████▌  | 158/210 [5:49:52<1:50:37, 127.64s/it]"
     ]
    },
    {
     "name": "stdout",
     "output_type": "stream",
     "text": [
      "MD Section failed for SMI: [C@]12([C@]3(OC4(CC(OC4)=O)CC3)[C@@H](CCC1[C@]1([C@@H](OC(OC1)(C)C)CC2)C)C)C\n"
     ]
    },
    {
     "name": "stderr",
     "output_type": "stream",
     "text": [
      " 82%|████████▏ | 172/210 [6:29:35<2:11:45, 208.04s/it]"
     ]
    },
    {
     "name": "stdout",
     "output_type": "stream",
     "text": [
      "MD Section failed for SMI: CC1(c2ccccc2N(C1=CC(=O)COC(=O)C(c3ccccc3)c4ccccc4)C)C\n",
      "MD Section failed for SMI: N#CC(=Cc1cc2c(cc1)OCO2)C(=O)NCc1cccc(c1)CNC(=O)C(=Cc1cc2c(cc1)OCO2)C#N\n"
     ]
    },
    {
     "name": "stderr",
     "output_type": "stream",
     "text": [
      " 85%|████████▌ | 179/210 [6:43:15<1:16:26, 147.96s/it]"
     ]
    },
    {
     "name": "stdout",
     "output_type": "stream",
     "text": [
      "MD Section failed for SMI: C1(=C(NC(=C(C1c1occc1)C(=O)OC)C)C)C(=O)OCC\n"
     ]
    },
    {
     "name": "stderr",
     "output_type": "stream",
     "text": [
      " 88%|████████▊ | 184/210 [6:56:21<55:24, 127.88s/it]  "
     ]
    },
    {
     "name": "stdout",
     "output_type": "stream",
     "text": [
      "Failed for SMI: Cc1cc(c(n1c2cc(on2)C)C)C(=O)COC(=O)/C=C/c3cccc(c3)OC\n",
      "MD Section failed for SMI: Cc1cc(c(n1c2cc(on2)C)C)C(=O)COC(=O)/C=C/c3cccc(c3)OC\n",
      "Failed for SMI: COc1cc(cc(c1OC)OC)/C=C/C(=O)N[C@H]2CCCc3c2cccc3\n",
      "MD Section failed for SMI: COc1cc(cc(c1OC)OC)/C=C/C(=O)N[C@H]2CCCc3c2cccc3\n"
     ]
    },
    {
     "name": "stderr",
     "output_type": "stream",
     "text": [
      " 91%|█████████▏| 192/210 [7:16:56<46:10, 153.90s/it]  "
     ]
    },
    {
     "name": "stdout",
     "output_type": "stream",
     "text": [
      "Failed for SMI: Cc1ccc(o1)/C=C/C(=O)N2CCN(CC2)c3ccc(cc3)C(=O)C\n",
      "MD Section failed for SMI: Cc1ccc(o1)/C=C/C(=O)N2CCN(CC2)c3ccc(cc3)C(=O)C\n"
     ]
    },
    {
     "name": "stderr",
     "output_type": "stream",
     "text": [
      " 99%|█████████▊| 207/210 [8:01:55<12:16, 245.63s/it]"
     ]
    },
    {
     "name": "stdout",
     "output_type": "stream",
     "text": [
      "MD Section failed for SMI: Cc2cc1c(=O)c(C5C3=C(NC(C)=C5C(OCCOC)=O)CC(c4cc(OC)ccc4)CC3=O)coc1cc2\n"
     ]
    },
    {
     "name": "stderr",
     "output_type": "stream",
     "text": [
      "100%|██████████| 210/210 [8:03:45<00:00, 138.22s/it]\n"
     ]
    }
   ],
   "source": [
    "results = {'smile':[],'logp':[]}\n",
    "for i in tqdm(range(len(smiles))):\n",
    "#for i,smile in enumerate(smiles):\n",
    "    smile = smiles[i]\n",
    "    try:\n",
    "        md(smiles[i],params_star)\n",
    "        results['smile'].append(smile)\n",
    "        results['logp'].append(labels[i])\n",
    "    except:\n",
    "        print('MD Section failed for SMI: {}'.format(smile))"
   ]
  },
  {
   "cell_type": "code",
   "execution_count": 5,
   "id": "cb002f1b",
   "metadata": {},
   "outputs": [],
   "source": [
    "results_pd = pd.DataFrame(data=results)"
   ]
  },
  {
   "cell_type": "code",
   "execution_count": 6,
   "id": "2f6d0ff6",
   "metadata": {},
   "outputs": [],
   "source": [
    "results_pd.to_csv('logp/DATASETS/MD/Martel/md_Martel_CHON.csv',index=False)"
   ]
  },
  {
   "cell_type": "code",
   "execution_count": 7,
   "id": "d5b284ea",
   "metadata": {},
   "outputs": [
    {
     "data": {
      "text/plain": [
       "178"
      ]
     },
     "execution_count": 7,
     "metadata": {},
     "output_type": "execute_result"
    }
   ],
   "source": [
    "len(results['smile'])"
   ]
  },
  {
   "cell_type": "code",
   "execution_count": null,
   "id": "36c69461",
   "metadata": {},
   "outputs": [],
   "source": []
  }
 ],
 "metadata": {
  "kernelspec": {
   "display_name": "Python 3",
   "language": "python",
   "name": "python3"
  },
  "language_info": {
   "codemirror_mode": {
    "name": "ipython",
    "version": 3
   },
   "file_extension": ".py",
   "mimetype": "text/x-python",
   "name": "python",
   "nbconvert_exporter": "python",
   "pygments_lexer": "ipython3",
   "version": "3.9.1"
  }
 },
 "nbformat": 4,
 "nbformat_minor": 5
}
